{
 "cells": [
  {
   "cell_type": "markdown",
   "metadata": {},
   "source": [
    "### Query SDSS stripe 82 database for multiple observations of same object, make cutouts from locally mounted DAS files, display all together with JPEG cutout.\n",
    "Thanks to Ani Thakar for SQL\n",
    "\n",
    "Request: improve the astronomy!"
   ]
  },
  {
   "cell_type": "code",
   "execution_count": 3,
   "metadata": {
    "ExecuteTime": {
     "end_time": "2016-04-26T20:22:22.201834",
     "start_time": "2016-04-26T20:22:22.194535"
    }
   },
   "outputs": [
    {
     "name": "stdout",
     "output_type": "stream",
     "text": [
      "Your current token ise1d79d3fd55b45cc97c2ea6bb425734c\n"
     ]
    }
   ],
   "source": [
    "# standard first block for defining the token and makinhg it available as a system variable for the session\n",
    "# token must be replaced with new one once it has expired\n",
    "import SciServer.LoginPortal as Login\n",
    "token=Login.getToken()\n",
    "\n",
    "print(\"Your current valid token is\"+token)"
   ]
  },
  {
   "cell_type": "code",
   "execution_count": 4,
   "metadata": {
    "ExecuteTime": {
     "end_time": "2016-04-26T20:22:22.218237",
     "start_time": "2016-04-26T20:22:22.204853"
    }
   },
   "outputs": [],
   "source": [
    "import SciServer.CasJobs\n",
    "import pandas\n",
    "import tables\n",
    "import numpy as np\n",
    "import astropy\n",
    "from astropy.io import fits\n",
    "from astropy import wcs\n",
    "import skimage.io\n",
    "import urllib\n",
    "import os\n",
    "\n",
    "import matplotlib\n",
    "import matplotlib.pyplot as plt\n",
    "\n",
    "import warnings\n",
    "warnings.filterwarnings('ignore')"
   ]
  },
  {
   "cell_type": "markdown",
   "metadata": {},
   "source": [
    "### import img_scale.py\n",
    "For doing some scaling of FITS images we use functions from the img_scale.py python file, found at \n",
    "<a href=\"http://dept.astro.lsa.umich.edu/~msshin/science/code/Python_fits_image/img_scale.py\">\n",
    "http://dept.astro.lsa.umich.edu/~msshin/science/code/Python_fits_image/img_scale.py</a>.\n",
    "Updated to python 3 (by putting parentheses in print statements).\n"
   ]
  },
  {
   "cell_type": "code",
   "execution_count": 5,
   "metadata": {
    "ExecuteTime": {
     "end_time": "2016-04-26T20:22:22.232603",
     "start_time": "2016-04-26T20:22:22.220868"
    }
   },
   "outputs": [
    {
     "ename": "ImportError",
     "evalue": "No module named 'img_scale'",
     "output_type": "error",
     "traceback": [
      "\u001b[1;31m\u001b[0m",
      "\u001b[1;31mImportError\u001b[0mTraceback (most recent call last)",
      "\u001b[1;32m<ipython-input-5-d8b2d845f149>\u001b[0m in \u001b[0;36m<module>\u001b[1;34m()\u001b[0m\n\u001b[0;32m      1\u001b[0m \u001b[1;31m# python scripts can be uploaded to container and imported\u001b[0m\u001b[1;33m\u001b[0m\u001b[1;33m\u001b[0m\u001b[0m\n\u001b[0;32m      2\u001b[0m \u001b[1;31m# downloaded from\u001b[0m\u001b[1;33m\u001b[0m\u001b[1;33m\u001b[0m\u001b[0m\n\u001b[1;32m----> 3\u001b[1;33m \u001b[1;32mimport\u001b[0m \u001b[0mimg_scale\u001b[0m\u001b[1;33m\u001b[0m\u001b[0m\n\u001b[0m",
      "\u001b[1;31mImportError\u001b[0m: No module named 'img_scale'"
     ]
    }
   ],
   "source": [
    "# python scripts can be uploaded to container and imported\n",
    "# downloaded from \n",
    "import img_scale"
   ]
  },
  {
   "cell_type": "code",
   "execution_count": null,
   "metadata": {
    "ExecuteTime": {
     "end_time": "2016-04-26T20:22:22.779353",
     "start_time": "2016-04-26T20:22:22.235306"
    }
   },
   "outputs": [],
   "source": [
    "sql=\"\"\"\n",
    "SELECT a.objid as head, c.objid2 as match, b.matchcount, \n",
    "       p.fieldid as head_field, d.fieldid as match_field, \n",
    "       dbo.fGetUrlFitsCFrame(d.fieldid, 'g') as fits_g,\n",
    "       dbo.fGetUrlFitsCFrame(d.fieldid, 'r') as fits_r,\n",
    "       dbo.fGetUrlFitsCFrame(d.fieldid, 'z') as fits_z,\n",
    "       p.ra, d.ra as match_ra, p.dec, d.dec as match_dec\n",
    "       , p.petror90_r\n",
    "  from (select top 1 * from galaxy where objId=8658194378960928809) a\n",
    "   join matchhead b on a.objid=b.objid        -- join with matchhead\n",
    "   join photoobj p on a.objid=p.objid         -- get matchhead photoobj\n",
    "   join match c on c.objid1=b.objid           -- join with all the matches\n",
    "   join photoobjall d on c.objid2=d.objid     -- get match photoobj\n",
    "order by d.fieldid                              -- order by matchhead objid\n",
    "\"\"\"\n",
    "queryResponse = SciServer.CasJobs.executeQuery(sql, \"Stripe82\",token=token)\n",
    "obss = pandas.read_csv(queryResponse,index_col=None)"
   ]
  },
  {
   "cell_type": "code",
   "execution_count": null,
   "metadata": {
    "ExecuteTime": {
     "end_time": "2016-04-26T20:22:22.830941",
     "start_time": "2016-04-26T20:22:22.781951"
    }
   },
   "outputs": [],
   "source": [
    "# show first 10 rows\n",
    "(obss[:10]['fits_r'])"
   ]
  },
  {
   "cell_type": "code",
   "execution_count": null,
   "metadata": {
    "ExecuteTime": {
     "end_time": "2016-04-26T20:22:22.878245",
     "start_time": "2016-04-26T20:22:22.834361"
    },
    "collapsed": true
   },
   "outputs": [],
   "source": [
    "def cutout(ff,ra,dec,hw):\n",
    "    hdulist = fits.open(ff)\n",
    "    w = wcs.WCS(hdulist[0].header)  \n",
    "    crd = np.array([[ra,dec]], np.float_)\n",
    "    pixcoords = np.around(list(w.wcs_world2pix(crd,1)))\n",
    "    sh=hdulist[0].data.shape\n",
    "    xfrom=max(0,pixcoords[0][1]-hw)\n",
    "    xto=min(pixcoords[0][1]+hw-1,sh[0])\n",
    "    yfrom=max(pixcoords[0][0]-hw,0)\n",
    "    yto=min(pixcoords[0][0]+hw-1,sh[1])\n",
    "    scidata = hdulist[0].data[xfrom:xto,yfrom:yto]\n",
    "\n",
    "    _img=np.zeros((hw*2-1,hw*2-1))\n",
    "    _mask=np.zeros(_img.shape)\n",
    "    \n",
    "    x0=hw-(pixcoords[0][1]-xfrom)\n",
    "    x1=hw+xto-pixcoords[0][1]\n",
    "    y0=hw-(pixcoords[0][0]-yfrom)\n",
    "    y1=hw+yto-pixcoords[0][0]\n",
    "    _img[x0:x1,y0:y1]=scidata\n",
    "    _mask[x0:x1,y0:y1]=1\n",
    "    _img=np.fliplr(_img.T)\n",
    "    _mask=np.fliplr(_mask.T)\n",
    "    return _img,_mask"
   ]
  },
  {
   "cell_type": "code",
   "execution_count": null,
   "metadata": {
    "ExecuteTime": {
     "end_time": "2016-04-26T20:22:29.946703",
     "start_time": "2016-04-26T20:22:22.880924"
    },
    "scrolled": false
   },
   "outputs": [],
   "source": [
    "width=200\n",
    "height=200\n",
    "pixelsize=0.396\n",
    "_cmap='afmhot'\n",
    "#_cmap='cool'\n",
    "_vmin=1000\n",
    "_vmax=10000\n",
    "\n",
    "nx=4\n",
    "ny=2\n",
    "nmax=nx*ny\n",
    "plt.figure(figsize=(15, 15*nx/ny))\n",
    "sp = 1\n",
    "_min=np.inf\n",
    "_max=-np.inf\n",
    "for ix in range(0,nmax-2):\n",
    "    if ix == 0:\n",
    "        ra=obss.ra[ix]\n",
    "        dec=obss.dec[ix]\n",
    "        r90=obss.petror90_r[ix]\n",
    "        size=2*r90/pixelsize\n",
    "        scale=size/width\n",
    "        url=\"http://skyservice.pha.jhu.edu/DR12/ImgCutout/getjpeg.aspx?ra=\"+str(ra)\n",
    "        url+=\"&dec=\"+str(dec)+\"&scale=\"\"\"+str(scale)+\"&width=\"+str(width)\n",
    "        url+=\"&height=\"+str(height)\n",
    "    fits_r=obss.fits_r[ix]\n",
    "# IFF sdss_das is mounted read from file\n",
    "# NOTE relative path should be changed to conform to user's folder structure\n",
    "# OR use absolute /home/idies/workspace/sdss_das/das2\n",
    "    if os.path.isdir('/home/idies/workspace/sdss_das/'):\n",
    "        fits_r=fits_r.replace('http://das.sdss.org','/home/idies/workspace/sdss_das/das2')\n",
    "        print ('reading \"local\" file',fits_r)\n",
    "    else:\n",
    "        print('downloading remote file',fits_r)\n",
    "    fimg,_mask=cutout(fits_r,ra,dec,np.floor(size))\n",
    "    if ix == 0:\n",
    "        stack = np.zeros(fimg.shape, dtype=float)\n",
    "        mask = np.zeros(stack.shape, dtype=float)\n",
    "    stack=stack+fimg\n",
    "    mask=mask+_mask\n",
    "    plt.subplot(nx,ny,sp)\n",
    "    # use img_scale  \n",
    "    scimg=img_scale.asinh(fimg,scale_min=np.min(fimg[_mask>0]))\n",
    "\n",
    "    im=plt.imshow(scimg,  cmap=_cmap,origin='lower')\n",
    "    sp+=1\n",
    "ix=np.where(mask > 0.1)\n",
    "stack[ix]=stack[ix]/mask[ix]\n",
    "stack[mask==0]=0\n",
    "#plt.subplot(nx,ny,sp)\n",
    "\n",
    "#scimg=loggray(stack,mask)\n",
    "scimg=img_scale.asinh(stack,scale_min=np.min(stack[mask>0]))\n",
    "im=plt.imshow(scimg,cmap=_cmap,origin='lower')\n",
    "\n",
    "\n",
    "#plt.title('stack')\n",
    "#img=skimage.io.imread(url)\n",
    "#sp+=1\n",
    "#plt.subplot(nx,ny,sp)\n",
    "#plt.imshow(img)\n",
    "#plt.title(\"JPEG\")\n",
    "###"
   ]
  },
  {
   "cell_type": "markdown",
   "metadata": {},
   "source": [
    "# Exercise 1: fix the co-adding\n",
    "Artefact visible in final co-added image is probably feature of too-simplistic algorithm.\n",
    "Fix this (please!)."
   ]
  },
  {
   "cell_type": "code",
   "execution_count": null,
   "metadata": {
    "collapsed": true
   },
   "outputs": [],
   "source": []
  }
 ],
 "metadata": {
  "kernelspec": {
   "display_name": "Python 3.7 (py37)",
   "language": "python",
   "name": "py37"
  },
  "language_info": {
   "codemirror_mode": {
    "name": "ipython",
    "version": 3
   },
   "file_extension": ".py",
   "mimetype": "text/x-python",
   "name": "python",
   "nbconvert_exporter": "python",
   "pygments_lexer": "ipython3",
   "version": "3.7.4"
  }
 },
 "nbformat": 4,
 "nbformat_minor": 1
}
