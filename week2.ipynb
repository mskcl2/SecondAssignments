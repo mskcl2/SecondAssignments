{
 "cells": [
  {
   "cell_type": "code",
   "execution_count": 2,
   "metadata": {
    "collapsed": true
   },
   "outputs": [],
   "source": [
    "from SciServer import CasJobs\n",
    "from SciServer import LoginPortal"
   ]
  },
  {
   "cell_type": "code",
   "execution_count": 4,
   "metadata": {
    "collapsed": true
   },
   "outputs": [],
   "source": [
    "# Read the current access token from the file\n",
    "my_access_token = LoginPortal.getToken()\n"
   ]
  },
  {
   "cell_type": "code",
   "execution_count": 6,
   "metadata": {
    "collapsed": false
   },
   "outputs": [
    {
     "name": "stdout",
     "output_type": "stream",
     "text": [
      " token a03b2ba5cb0440f388402bf9dbc4d1bc\n"
     ]
    }
   ],
   "source": [
    "print(\" token {}\".format(my_access_token))"
   ]
  },
  {
   "cell_type": "code",
   "execution_count": 15,
   "metadata": {
    "collapsed": true
   },
   "outputs": [],
   "source": [
    "query = \"SELECT * FROM Cancer_study\""
   ]
  },
  {
   "cell_type": "code",
   "execution_count": 16,
   "metadata": {
    "collapsed": true
   },
   "outputs": [],
   "source": [
    "responseStream = CasJobs.executeQuery(query, \"cbioportal\", token=my_access_token)"
   ]
  },
  {
   "cell_type": "code",
   "execution_count": 17,
   "metadata": {
    "collapsed": false
   },
   "outputs": [],
   "source": [
    "result = responseStream.read()"
   ]
  },
  {
   "cell_type": "code",
   "execution_count": 13,
   "metadata": {
    "collapsed": true
   },
   "outputs": [],
   "source": [
    "CasJobs.executeQuery?\n",
    "\n"
   ]
  },
  {
   "cell_type": "code",
   "execution_count": 18,
   "metadata": {
    "collapsed": false
   },
   "outputs": [
    {
     "name": "stdout",
     "output_type": "stream",
     "text": [
      "\n",
      "---Query---\n",
      "SELECT * FROM Cancer_study\n",
      "---Result---\n",
      "CANCER_STUDY_ID,CANCER_STUDY_IDENTIFIER,TYPE_OF_CANCER_ID,NAME,SHORT_NAME,DESCRIPTION,PUBLIC,PMID,CITATION,GROUPS,STATUS\n",
      "1,\"brca_tcga_pub\",\"brca\",\"Breast Invasive Carcinoma (TCGA, Nature 2012)\",\"BRCA (TCGA)\",\"<a href=\"http://cancergenome.nih.gov/\">The Cancer Genome Atlas (TCGA)</a> Breast Invasive Carcinoma project. 825 cases.<br><i>Nature 2012.</i> <a href=\"http://tcga-data.nci.nih.gov/tcga/\">Raw data via the TCGA Data Portal</a>.\",1,\"23000897\",\"TCGA, Nature 2012\",\"PUBLIC;SU2C-PI3K;GDAC\",null\n",
      "\n"
     ]
    }
   ],
   "source": [
    "print(\"\\n---Query---\\n{}\\n---Result---\\n{}\".format(query, result))"
   ]
  },
  {
   "cell_type": "code",
   "execution_count": 19,
   "metadata": {
    "collapsed": false,
    "scrolled": true
   },
   "outputs": [
    {
     "name": "stdout",
     "output_type": "stream",
     "text": [
      "\n",
      "---Query---\n",
      "SELECT TOP 10 objid, ra, dec FROM PhotoObj\n",
      "---Result---\n",
      "objid,ra,dec\n",
      "1237651758284999323,269.998611664671,0.0019622284548727\n",
      "1237651758284999326,269.997628857975,0.000513776057115382\n",
      "1237651758284999348,270.002697519987,-0.000544885468743004\n",
      "1237651758284999319,270.00047971351,0.00299723797180513\n",
      "1237651758284999325,270.00223782275,0.00303451368030633\n",
      "1237651758284999317,270.000683875077,0.00379192855675463\n",
      "1237651758284999318,269.999838605169,0.0038632223882232\n",
      "1237651758285000990,270.004056364147,0.00157525571480888\n",
      "1237651758285001724,269.995417382276,-0.000116472046380632\n",
      "1237651758284996827,269.996605701874,0.00319841051694395\n",
      "\n"
     ]
    }
   ],
   "source": [
    "query = \"SELECT TOP 10 objid, ra, dec FROM PhotoObj\"\n",
    "responseStream = CasJobs.executeQuery(query, \"DR12\", token = my_access_token)\n",
    "result = responseStream.read()\n",
    "print(\"\\n---Query---\\n{}\\n---Result---\\n{}\".format(query, result))"
   ]
  },
  {
   "cell_type": "code",
   "execution_count": 21,
   "metadata": {
    "collapsed": false
   },
   "outputs": [
    {
     "name": "stdout",
     "output_type": "stream",
     "text": [
      "/home/idies/workspace\r\n"
     ]
    }
   ],
   "source": [
    "!pwd"
   ]
  },
  {
   "cell_type": "code",
   "execution_count": 28,
   "metadata": {
    "collapsed": false
   },
   "outputs": [
    {
     "name": "stdout",
     "output_type": "stream",
     "text": [
      "Object `SkyQuery.executeQuery` not found.\n"
     ]
    }
   ],
   "source": []
  },
  {
   "cell_type": "code",
   "execution_count": 26,
   "metadata": {
    "collapsed": false
   },
   "outputs": [],
   "source": [
    "from SciServer import SkyQuery"
   ]
  },
  {
   "cell_type": "code",
   "execution_count": null,
   "metadata": {
    "collapsed": true
   },
   "outputs": [],
   "source": [
    "responseStream=SkyQuery.executeQuery()"
   ]
  },
  {
   "cell_type": "code",
   "execution_count": 30,
   "metadata": {
    "collapsed": false
   },
   "outputs": [
    {
     "data": {
      "text/plain": [
       "[{'Date': 636025231869900000,\n",
       "  'Name': 'attribute_metadata',\n",
       "  'Rows': 0,\n",
       "  'Size': 0},\n",
       " {'Date': 636025231870770000, 'Name': 'authorities', 'Rows': 0, 'Size': 0},\n",
       " {'Date': 636025231871500000, 'Name': 'cancer_study', 'Rows': 1, 'Size': 80},\n",
       " {'Date': 636025231872300000,\n",
       "  'Name': 'clinical_attribute',\n",
       "  'Rows': 11,\n",
       "  'Size': 16},\n",
       " {'Date': 636025231873100000, 'Name': 'clinical_event', 'Rows': 0, 'Size': 0},\n",
       " {'Date': 636025231873800000,\n",
       "  'Name': 'clinical_event_data',\n",
       "  'Rows': 0,\n",
       "  'Size': 0},\n",
       " {'Date': 636025231874530000,\n",
       "  'Name': 'clinical_patient',\n",
       "  'Rows': 3296,\n",
       "  'Size': 136},\n",
       " {'Date': 636025231875270000,\n",
       "  'Name': 'clinical_sample',\n",
       "  'Rows': 824,\n",
       "  'Size': 48},\n",
       " {'Date': 636025231876000000,\n",
       "  'Name': 'clinical_trial_keywords',\n",
       "  'Rows': 235000,\n",
       "  'Size': 80344},\n",
       " {'Date': 636025231876770000,\n",
       "  'Name': 'clinical_trials',\n",
       "  'Rows': 33083,\n",
       "  'Size': 27656},\n",
       " {'Date': 636025231877470000,\n",
       "  'Name': 'cna_event',\n",
       "  'Rows': 28811,\n",
       "  'Size': 2648},\n",
       " {'Date': 636025231879030000, 'Name': 'copy_number_seg', 'Rows': 0, 'Size': 0},\n",
       " {'Date': 636025231879800000,\n",
       "  'Name': 'copy_number_seg_file',\n",
       "  'Rows': 0,\n",
       "  'Size': 0},\n",
       " {'Date': 636025231880700000,\n",
       "  'Name': 'cosmic_mutation',\n",
       "  'Rows': 1534536,\n",
       "  'Size': 411816},\n",
       " {'Date': 636025231881530000, 'Name': 'drug', 'Rows': 8147, 'Size': 4952},\n",
       " {'Date': 636025231882500000,\n",
       "  'Name': 'drug_interaction',\n",
       "  'Rows': 14479,\n",
       "  'Size': 3992},\n",
       " {'Date': 636025231883230000, 'Name': 'entity', 'Rows': 0, 'Size': 0},\n",
       " {'Date': 636025231884000000,\n",
       "  'Name': 'entity_attribute',\n",
       "  'Rows': 0,\n",
       "  'Size': 0},\n",
       " {'Date': 636025231884830000, 'Name': 'entity_link', 'Rows': 0, 'Size': 0},\n",
       " {'Date': 636025231885600000, 'Name': 'gene', 'Rows': 58326, 'Size': 6360},\n",
       " {'Date': 636025231886330000,\n",
       "  'Name': 'gene_alias',\n",
       "  'Rows': 70851,\n",
       "  'Size': 1672},\n",
       " {'Date': 636025231887100000,\n",
       "  'Name': 'genetic_alteration',\n",
       "  'Rows': 38267,\n",
       "  'Size': 155704},\n",
       " {'Date': 636025231887830000,\n",
       "  'Name': 'genetic_profile',\n",
       "  'Rows': 3,\n",
       "  'Size': 80},\n",
       " {'Date': 636025231888570000,\n",
       "  'Name': 'genetic_profile_samples',\n",
       "  'Rows': 2,\n",
       "  'Size': 16},\n",
       " {'Date': 636025231889270000, 'Name': 'gistic', 'Rows': 0, 'Size': 0},\n",
       " {'Date': 636025231890470000, 'Name': 'gistic_to_gene', 'Rows': 0, 'Size': 0},\n",
       " {'Date': 636025231891230000, 'Name': 'info', 'Rows': 1, 'Size': 16},\n",
       " {'Date': 636025231892230000,\n",
       "  'Name': 'interaction',\n",
       "  'Rows': 153640,\n",
       "  'Size': 9928},\n",
       " {'Date': 636025231892930000, 'Name': 'micro_rna', 'Rows': 0, 'Size': 0},\n",
       " {'Date': 636025231894030000,\n",
       "  'Name': 'micro_rna_alteration',\n",
       "  'Rows': 0,\n",
       "  'Size': 0},\n",
       " {'Date': 636025231894770000, 'Name': 'mut_sig', 'Rows': 0, 'Size': 0},\n",
       " {'Date': 636025231895530000, 'Name': 'mutation', 'Rows': 366, 'Size': 328},\n",
       " {'Date': 636025231896400000,\n",
       "  'Name': 'mutation_count',\n",
       "  'Rows': 234,\n",
       "  'Size': 80},\n",
       " {'Date': 636025231897130000,\n",
       "  'Name': 'mutation_event',\n",
       "  'Rows': 366,\n",
       "  'Size': 296},\n",
       " {'Date': 636025231897970000,\n",
       "  'Name': 'mutation_frequency',\n",
       "  'Rows': 0,\n",
       "  'Size': 0},\n",
       " {'Date': 636025231898700000, 'Name': 'patient', 'Rows': 825, 'Size': 112},\n",
       " {'Date': 636025231899400000, 'Name': 'patient_list', 'Rows': 13, 'Size': 80},\n",
       " {'Date': 636025231900300000,\n",
       "  'Name': 'patient_list_list',\n",
       "  'Rows': 5743,\n",
       "  'Size': 536},\n",
       " {'Date': 636025231901000000,\n",
       "  'Name': 'pdb_uniprot_alignment',\n",
       "  'Rows': 2306308,\n",
       "  'Size': 1101288},\n",
       " {'Date': 636025231903300000,\n",
       "  'Name': 'pdb_uniprot_residue_mapping',\n",
       "  'Rows': 222553681,\n",
       "  'Size': 14804040},\n",
       " {'Date': 636025231904030000,\n",
       "  'Name': 'pfam_graphics',\n",
       "  'Rows': 23437,\n",
       "  'Size': 77192},\n",
       " {'Date': 636025231904770000,\n",
       "  'Name': 'protein_array_cancer_study',\n",
       "  'Rows': 0,\n",
       "  'Size': 0},\n",
       " {'Date': 636025231905470000,\n",
       "  'Name': 'protein_array_data',\n",
       "  'Rows': 0,\n",
       "  'Size': 0},\n",
       " {'Date': 636025231906200000,\n",
       "  'Name': 'protein_array_info',\n",
       "  'Rows': 0,\n",
       "  'Size': 0},\n",
       " {'Date': 636025231906900000,\n",
       "  'Name': 'protein_array_target',\n",
       "  'Rows': 0,\n",
       "  'Size': 0},\n",
       " {'Date': 636025231907870000, 'Name': 'sample', 'Rows': 826, 'Size': 200},\n",
       " {'Date': 636025231908670000,\n",
       "  'Name': 'sample_cna_event',\n",
       "  'Rows': 232236,\n",
       "  'Size': 32552},\n",
       " {'Date': 636025231909400000, 'Name': 'sample_list', 'Rows': 8, 'Size': 80},\n",
       " {'Date': 636025231910170000,\n",
       "  'Name': 'sample_list_list',\n",
       "  'Rows': 4429,\n",
       "  'Size': 408},\n",
       " {'Date': 636025231910900000,\n",
       "  'Name': 'sample_profile',\n",
       "  'Rows': 1591,\n",
       "  'Size': 240},\n",
       " {'Date': 636025231913030000,\n",
       "  'Name': 'sanger_cancer_census',\n",
       "  'Rows': 0,\n",
       "  'Size': 0},\n",
       " {'Date': 636025231913800000, 'Name': 'text_cache', 'Rows': 1, 'Size': 16},\n",
       " {'Date': 636025231914500000,\n",
       "  'Name': 'type_of_cancer',\n",
       "  'Rows': 551,\n",
       "  'Size': 136},\n",
       " {'Date': 636025231915230000,\n",
       "  'Name': 'uniprot_id_mapping',\n",
       "  'Rows': 20198,\n",
       "  'Size': 4648},\n",
       " {'Date': 636025231916000000, 'Name': 'users', 'Rows': 0, 'Size': 0}]"
      ]
     },
     "execution_count": 30,
     "metadata": {},
     "output_type": "execute_result"
    }
   ],
   "source": [
    "CasJobs.getTables(context='cbioportal')"
   ]
  },
  {
   "cell_type": "code",
   "execution_count": 33,
   "metadata": {
    "collapsed": false
   },
   "outputs": [
    {
     "data": {
      "text/plain": [
       "'d01d2c515a594c45994a8a7fb05671ff'"
      ]
     },
     "execution_count": 33,
     "metadata": {},
     "output_type": "execute_result"
    }
   ],
   "source": [
    "LoginPortal.login('jkim485','sc999')"
   ]
  },
  {
   "cell_type": "code",
   "execution_count": 34,
   "metadata": {
    "collapsed": false
   },
   "outputs": [
    {
     "data": {
      "text/plain": [
       "'d01d2c515a594c45994a8a7fb05671ff'"
      ]
     },
     "execution_count": 34,
     "metadata": {},
     "output_type": "execute_result"
    }
   ],
   "source": [
    "LoginPortal.getKeystoneToken()"
   ]
  },
  {
   "cell_type": "code",
   "execution_count": 35,
   "metadata": {
    "collapsed": true
   },
   "outputs": [],
   "source": [
    "from SciServer import SciDrive"
   ]
  },
  {
   "cell_type": "code",
   "execution_count": 38,
   "metadata": {
    "collapsed": false
   },
   "outputs": [],
   "source": [
    "#from SciServer import Authentication"
   ]
  },
  {
   "cell_type": "code",
   "execution_count": 39,
   "metadata": {
    "collapsed": true
   },
   "outputs": [],
   "source": [
    "SciDrive.createContainer(\"\")"
   ]
  },
  {
   "cell_type": "code",
   "execution_count": 40,
   "metadata": {
    "collapsed": false
   },
   "outputs": [
    {
     "name": "stdout",
     "output_type": "stream",
     "text": [
      " token a03b2ba5cb0440f388402bf9dbc4d1bc\n"
     ]
    }
   ],
   "source": [
    "print(\" token {}\".format(my_access_token))"
   ]
  },
  {
   "cell_type": "code",
   "execution_count": 1,
   "metadata": {
    "collapsed": false
   },
   "outputs": [
    {
     "ename": "NameError",
     "evalue": "name 'my_access_token' is not defined",
     "output_type": "error",
     "traceback": [
      "\u001b[1;31m\u001b[0m",
      "\u001b[1;31mNameError\u001b[0mTraceback (most recent call last)",
      "\u001b[1;32m<ipython-input-1-26ab0ce5e091>\u001b[0m in \u001b[0;36m<module>\u001b[1;34m()\u001b[0m\n\u001b[1;32m----> 1\u001b[1;33m \u001b[0mprint\u001b[0m\u001b[1;33m(\u001b[0m\u001b[1;34m\" token {}\"\u001b[0m\u001b[1;33m.\u001b[0m\u001b[0mformat\u001b[0m\u001b[1;33m(\u001b[0m\u001b[0mmy_access_token\u001b[0m\u001b[1;33m)\u001b[0m\u001b[1;33m)\u001b[0m\u001b[1;33m\u001b[0m\u001b[0m\n\u001b[0m",
      "\u001b[1;31mNameError\u001b[0m: name 'my_access_token' is not defined"
     ]
    }
   ],
   "source": [
    "print(\" token {}\".format(my_access_token))"
   ]
  }
 ],
 "metadata": {
  "kernelspec": {
   "display_name": "Python 3",
   "language": "python",
   "name": "python3"
  },
  "language_info": {
   "codemirror_mode": {
    "name": "ipython",
    "version": 3
   },
   "file_extension": ".py",
   "mimetype": "text/x-python",
   "name": "python",
   "nbconvert_exporter": "python",
   "pygments_lexer": "ipython3",
   "version": "3.5.1"
  }
 },
 "nbformat": 4,
 "nbformat_minor": 0
}
